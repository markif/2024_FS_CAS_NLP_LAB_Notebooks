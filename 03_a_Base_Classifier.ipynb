{
 "cells": [
  {
   "cell_type": "markdown",
   "metadata": {},
   "source": [
    "<img align=\"right\" width=\"400\" src=\"https://www.fhnw.ch/de/++theme++web16theme/assets/media/img/fachhochschule-nordwestschweiz-fhnw-logo.svg\" alt=\"FHNW Logo\">\n",
    "\n",
    "\n",
    "# Base Classifier\n",
    "\n",
    "by Fabian Märki\n",
    "\n",
    "## Summary\n",
    "The aim of this notebook is to train a *Base Classifier* using TF-IDF and a standard ML classifier with default hyperparameters. This builds a *base line* upon which more advanced models (i.e. deep learning ones) should show better performance in order to be considered. Additionally, it also investigate the how much individual features (i.e. words) contribute to the class assignment (feature importance) in order to get an idea if the classifier makes *reasonable* decisions.\n",
    "\n",
    "This notebook contains assigments: <font color='red'>Questions are written in red.</font>\n",
    "\n",
    "<a href=\"https://colab.research.google.com/github/markif/2024_FS_CAS_NLP_LAB_Notebooks/blob/master/03_a_Base_Classifier.ipynb\">\n",
    "  <img align=\"left\" src=\"https://colab.research.google.com/assets/colab-badge.svg\" alt=\"Open In Colab\"/>\n",
    "</a>"
   ]
  },
  {
   "cell_type": "code",
   "execution_count": 1,
   "metadata": {},
   "outputs": [],
   "source": [
    "%%capture\n",
    "\n",
    "!pip install 'fhnw-nlp-utils>=0.8.0,<0.9.0'\n",
    "\n",
    "from fhnw.nlp.utils.storage import download\n",
    "from fhnw.nlp.utils.storage import load_dataframe\n",
    "\n",
    "import pandas as pd\n",
    "import numpy as np"
   ]
  },
  {
   "cell_type": "code",
   "execution_count": 2,
   "metadata": {},
   "outputs": [
    {
     "name": "stdout",
     "output_type": "stream",
     "text": [
      "OS name: posix\n",
      "Platform name: Linux\n",
      "Platform release: 5.13.0-44-generic\n",
      "Python version: 3.8.10\n",
      "CPU cores: 6\n",
      "RAM: 31.13GB total and 23.33GB available\n",
      "Tensorflow version: 2.9.1\n",
      "GPU is available\n",
      "GPU is a NVIDIA GeForce RTX 2070 with Max-Q Design with 8192MiB\n"
     ]
    }
   ],
   "source": [
    "from fhnw.nlp.utils.system import set_log_level\n",
    "from fhnw.nlp.utils.system import system_info\n",
    "\n",
    "set_log_level()\n",
    "print(system_info())"
   ]
  },
  {
   "cell_type": "code",
   "execution_count": 3,
   "metadata": {},
   "outputs": [
    {
     "name": "stdout",
     "output_type": "stream",
     "text": [
      "CPU times: user 13.5 s, sys: 1.72 s, total: 15.3 s\n",
      "Wall time: 11.1 s\n"
     ]
    },
    {
     "data": {
      "text/plain": [
       "(350087, 10)"
      ]
     },
     "execution_count": 3,
     "metadata": {},
     "output_type": "execute_result"
    }
   ],
   "source": [
    "%%time\n",
    "download(\"https://drive.switch.ch/index.php/s/0hE8wO4FbfGIJld/download\", \"data/german_doctor_reviews_tokenized.parq\")\n",
    "data = load_dataframe(\"data/german_doctor_reviews_tokenized.parq\")\n",
    "data.shape"
   ]
  },
  {
   "cell_type": "code",
   "execution_count": 4,
   "metadata": {},
   "outputs": [
    {
     "data": {
      "text/html": [
       "<div>\n",
       "<style scoped>\n",
       "    .dataframe tbody tr th:only-of-type {\n",
       "        vertical-align: middle;\n",
       "    }\n",
       "\n",
       "    .dataframe tbody tr th {\n",
       "        vertical-align: top;\n",
       "    }\n",
       "\n",
       "    .dataframe thead th {\n",
       "        text-align: right;\n",
       "    }\n",
       "</style>\n",
       "<table border=\"1\" class=\"dataframe\">\n",
       "  <thead>\n",
       "    <tr style=\"text-align: right;\">\n",
       "      <th></th>\n",
       "      <th>text_original</th>\n",
       "      <th>rating</th>\n",
       "      <th>text</th>\n",
       "      <th>label</th>\n",
       "      <th>sentiment</th>\n",
       "      <th>token_clean</th>\n",
       "      <th>text_clean</th>\n",
       "      <th>token_lemma</th>\n",
       "      <th>token_stem</th>\n",
       "      <th>token_clean_stopwords</th>\n",
       "    </tr>\n",
       "  </thead>\n",
       "  <tbody>\n",
       "    <tr>\n",
       "      <th>0</th>\n",
       "      <td>Ich bin franzose und bin seit ein paar Wochen ...</td>\n",
       "      <td>2.0</td>\n",
       "      <td>Ich bin franzose und bin seit ein paar Wochen ...</td>\n",
       "      <td>positive</td>\n",
       "      <td>1</td>\n",
       "      <td>[ich, bin, franzose, und, bin, seit, ein, paar...</td>\n",
       "      <td>ich bin franzose und bin seit ein paar wochen ...</td>\n",
       "      <td>[franzose, seit, paar, woche, muenchen, zahn, ...</td>\n",
       "      <td>[franzos, seit, paar, woch, muench, ., zahn, s...</td>\n",
       "      <td>[franzose, seit, paar, wochen, muenchen, ., za...</td>\n",
       "    </tr>\n",
       "    <tr>\n",
       "      <th>1</th>\n",
       "      <td>Dieser Arzt ist das unmöglichste was mir in me...</td>\n",
       "      <td>6.0</td>\n",
       "      <td>Dieser Arzt ist das unmöglichste was mir in me...</td>\n",
       "      <td>negative</td>\n",
       "      <td>-1</td>\n",
       "      <td>[dieser, arzt, ist, das, unmöglichste, was, mi...</td>\n",
       "      <td>dieser arzt ist das unmöglichste was mir in me...</td>\n",
       "      <td>[arzt, unmöglichste, leben, je, begegnen, unfr...</td>\n",
       "      <td>[arzt, unmog, leb, je, begegnet, unfreund, ,, ...</td>\n",
       "      <td>[arzt, unmöglichste, leben, je, begegnet, unfr...</td>\n",
       "    </tr>\n",
       "    <tr>\n",
       "      <th>2</th>\n",
       "      <td>Hatte akute Beschwerden am Rücken. Herr Magura...</td>\n",
       "      <td>1.0</td>\n",
       "      <td>Hatte akute Beschwerden am Rücken. Herr Magura...</td>\n",
       "      <td>positive</td>\n",
       "      <td>1</td>\n",
       "      <td>[hatte, akute, beschwerden, am, rücken, ., her...</td>\n",
       "      <td>hatte akute beschwerden am rücken . herr magur...</td>\n",
       "      <td>[akut, beschwerde, rücken, magura, erster, arz...</td>\n",
       "      <td>[akut, beschwerd, ruck, ., magura, erst, arzt,...</td>\n",
       "      <td>[akute, beschwerden, rücken, ., magura, erste,...</td>\n",
       "    </tr>\n",
       "  </tbody>\n",
       "</table>\n",
       "</div>"
      ],
      "text/plain": [
       "                                       text_original  rating  \\\n",
       "0  Ich bin franzose und bin seit ein paar Wochen ...     2.0   \n",
       "1  Dieser Arzt ist das unmöglichste was mir in me...     6.0   \n",
       "2  Hatte akute Beschwerden am Rücken. Herr Magura...     1.0   \n",
       "\n",
       "                                                text     label  sentiment  \\\n",
       "0  Ich bin franzose und bin seit ein paar Wochen ...  positive          1   \n",
       "1  Dieser Arzt ist das unmöglichste was mir in me...  negative         -1   \n",
       "2  Hatte akute Beschwerden am Rücken. Herr Magura...  positive          1   \n",
       "\n",
       "                                         token_clean  \\\n",
       "0  [ich, bin, franzose, und, bin, seit, ein, paar...   \n",
       "1  [dieser, arzt, ist, das, unmöglichste, was, mi...   \n",
       "2  [hatte, akute, beschwerden, am, rücken, ., her...   \n",
       "\n",
       "                                          text_clean  \\\n",
       "0  ich bin franzose und bin seit ein paar wochen ...   \n",
       "1  dieser arzt ist das unmöglichste was mir in me...   \n",
       "2  hatte akute beschwerden am rücken . herr magur...   \n",
       "\n",
       "                                         token_lemma  \\\n",
       "0  [franzose, seit, paar, woche, muenchen, zahn, ...   \n",
       "1  [arzt, unmöglichste, leben, je, begegnen, unfr...   \n",
       "2  [akut, beschwerde, rücken, magura, erster, arz...   \n",
       "\n",
       "                                          token_stem  \\\n",
       "0  [franzos, seit, paar, woch, muench, ., zahn, s...   \n",
       "1  [arzt, unmog, leb, je, begegnet, unfreund, ,, ...   \n",
       "2  [akut, beschwerd, ruck, ., magura, erst, arzt,...   \n",
       "\n",
       "                               token_clean_stopwords  \n",
       "0  [franzose, seit, paar, wochen, muenchen, ., za...  \n",
       "1  [arzt, unmöglichste, leben, je, begegnet, unfr...  \n",
       "2  [akute, beschwerden, rücken, ., magura, erste,...  "
      ]
     },
     "execution_count": 4,
     "metadata": {},
     "output_type": "execute_result"
    }
   ],
   "source": [
    "data.head(3)"
   ]
  },
  {
   "cell_type": "markdown",
   "metadata": {},
   "source": [
    "The classification should recognize if a comment has a positive or negative sentiment. We already converted good ratings (1-2) into a *positive*, low ratings (5-6) into a *negative* and mid range ratings (3-4) into a *neutral* label. Here we additionally exclude *neutral* ratings so that the task becomes a binary classification."
   ]
  },
  {
   "cell_type": "code",
   "execution_count": 5,
   "metadata": {},
   "outputs": [
    {
     "data": {
      "text/plain": [
       "(331187, 10)"
      ]
     },
     "execution_count": 5,
     "metadata": {},
     "output_type": "execute_result"
    }
   ],
   "source": [
    "# remove all neutral sentimens\n",
    "data = data.loc[(data[\"label\"] != \"neutral\")]\n",
    "data.shape"
   ]
  },
  {
   "cell_type": "code",
   "execution_count": null,
   "metadata": {},
   "outputs": [],
   "source": []
  },
  {
   "cell_type": "markdown",
   "metadata": {},
   "source": [
    "Check if dataset is unbalanced. "
   ]
  },
  {
   "cell_type": "code",
   "execution_count": 6,
   "metadata": {},
   "outputs": [
    {
     "data": {
      "text/plain": [
       "negative     33022\n",
       "positive    298165\n",
       "Name: label, dtype: int64"
      ]
     },
     "execution_count": 6,
     "metadata": {},
     "output_type": "execute_result"
    }
   ],
   "source": [
    "val_counts = data[\"label\"].value_counts().sort_index()\n",
    "val_counts"
   ]
  },
  {
   "cell_type": "code",
   "execution_count": 7,
   "metadata": {},
   "outputs": [
    {
     "name": "stdout",
     "output_type": "stream",
     "text": [
      "negative    0.099708\n",
      "positive    0.900292\n",
      "Name: label, dtype: float64\n"
     ]
    },
    {
     "data": {
      "text/plain": [
       "<AxesSubplot:>"
      ]
     },
     "execution_count": 7,
     "metadata": {},
     "output_type": "execute_result"
    },
    {
     "data": {
      "image/png": "[encoded data removed]",
      "text/plain": [
       "<Figure size 432x288 with 1 Axes>"
      ]
     },
     "metadata": {
      "needs_background": "light"
     },
     "output_type": "display_data"
    }
   ],
   "source": [
    "val_counts = val_counts / np.sum(val_counts)\n",
    "print(val_counts)\n",
    "val_counts.plot(kind='barh')"
   ]
  },
  {
   "cell_type": "markdown",
   "metadata": {},
   "source": [
    "It seems the classes are quite unbalanced. \n",
    "\n",
    "Models often have difficluties to predict the minor class (in our case, a model that simply predicts the major class already has an accurracy of 90 percent). Methods to deal with unbalanced classes are over- and under-sampling, weighing of classes, data augmentation [etc](https://machinelearningmastery.com/tactics-to-combat-imbalanced-classes-in-your-machine-learning-dataset/). It turnes out that the classifier works quite good since the minority class already has quite some of observations (even though there are still some improvements possible as we will see later)."
   ]
  },
  {
   "cell_type": "code",
   "execution_count": null,
   "metadata": {},
   "outputs": [],
   "source": []
  },
  {
   "cell_type": "markdown",
   "metadata": {},
   "source": [
    "### Base Classifier"
   ]
  },
  {
   "cell_type": "markdown",
   "metadata": {},
   "source": [
    "Prepare the data (train/test split)."
   ]
  },
  {
   "cell_type": "markdown",
   "metadata": {},
   "source": [
    "<font color='red'>**TASK: Have a look at *[Visualizing cross-validation behavior](https://scikit-learn.org/stable/auto_examples/model_selection/plot_cv_indices.html#sphx-glr-auto-examples-model-selection-plot-cv-indices-py)* and think about a good way to split the data into training and test sets (the link also deals with [cross-validation](https://scikit-learn.org/stable/modules/cross_validation.html) - here only the part about [train/test split](https://scikit-learn.org/stable/modules/generated/sklearn.model_selection.train_test_split.html) is of importance).**</font>"
   ]
  },
  {
   "cell_type": "code",
   "execution_count": 8,
   "metadata": {},
   "outputs": [],
   "source": [
    "from sklearn.model_selection import train_test_split\n",
    "\n",
    "# TODO: !!! place your code here !!!\n",
    "####################################\n",
    "# !!! this needs rework !!!\n",
    "data_train = data[:165594]\n",
    "data_test = data[165594:]\n",
    "\n",
    "\n",
    "###################\n",
    "# TODO: !!! end !!!"
   ]
  },
  {
   "cell_type": "code",
   "execution_count": 9,
   "metadata": {},
   "outputs": [],
   "source": [
    "X_train, y_train = data_train[\"token_lemma\"], data_train[\"label\"]\n",
    "X_test, y_test = data_test[\"token_lemma\"], data_test[\"label\"]"
   ]
  },
  {
   "cell_type": "code",
   "execution_count": null,
   "metadata": {},
   "outputs": [],
   "source": []
  },
  {
   "cell_type": "markdown",
   "metadata": {},
   "source": [
    "All default values without hyperparameter optimization."
   ]
  },
  {
   "cell_type": "markdown",
   "metadata": {},
   "source": [
    "<font color='red'>**TASK: Build a Classifier using scikit-learn's [Pipeline](https://scikit-learn.org/stable/modules/generated/sklearn.pipeline.Pipeline.html) with [CountVectorizer](https://scikit-learn.org/stable/modules/generated/sklearn.feature_extraction.text.CountVectorizer.html), [TfidfTransformer](https://scikit-learn.org/stable/modules/generated/sklearn.feature_extraction.text.TfidfTransformer.html) and [SGDClassifier](https://scikit-learn.org/stable/modules/generated/sklearn.linear_model.SGDClassifier.html).**</font>\n",
    "\n",
    "<font color='red'>**Optional: In a later iteration you might want to try different [Classifiers](https://scikit-learn.org/stable/auto_examples/classification/plot_classifier_comparison.html#sphx-glr-auto-examples-classification-plot-classifier-comparison-py) ([Choosing the Right Estimator](https://scikit-learn.org/stable/tutorial/machine_learning_map/index.html) could also be of interest).**</font>"
   ]
  },
  {
   "cell_type": "code",
   "execution_count": 10,
   "metadata": {},
   "outputs": [
    {
     "name": "stdout",
     "output_type": "stream",
     "text": [
      "CPU times: user 4.58 s, sys: 954 ms, total: 5.53 s\n",
      "Wall time: 4.5 s\n"
     ]
    },
    {
     "data": {
      "text/html": [
       "<style>#sk-container-id-1 {color: black;background-color: white;}#sk-container-id-1 pre{padding: 0;}#sk-container-id-1 div.sk-toggleable {background-color: white;}#sk-container-id-1 label.sk-toggleable__label {cursor: pointer;display: block;width: 100%;margin-bottom: 0;padding: 0.3em;box-sizing: border-box;text-align: center;}#sk-container-id-1 label.sk-toggleable__label-arrow:before {content: \"▸\";float: left;margin-right: 0.25em;color: #696969;}#sk-container-id-1 label.sk-toggleable__label-arrow:hover:before {color: black;}#sk-container-id-1 div.sk-estimator:hover label.sk-toggleable__label-arrow:before {color: black;}#sk-container-id-1 div.sk-toggleable__content {max-height: 0;max-width: 0;overflow: hidden;text-align: left;background-color: #f0f8ff;}#sk-container-id-1 div.sk-toggleable__content pre {margin: 0.2em;color: black;border-radius: 0.25em;background-color: #f0f8ff;}#sk-container-id-1 input.sk-toggleable__control:checked~div.sk-toggleable__content {max-height: 200px;max-width: 100%;overflow: auto;}#sk-container-id-1 input.sk-toggleable__control:checked~label.sk-toggleable__label-arrow:before {content: \"▾\";}#sk-container-id-1 div.sk-estimator input.sk-toggleable__control:checked~label.sk-toggleable__label {background-color: #d4ebff;}#sk-container-id-1 div.sk-label input.sk-toggleable__control:checked~label.sk-toggleable__label {background-color: #d4ebff;}#sk-container-id-1 input.sk-hidden--visually {border: 0;clip: rect(1px 1px 1px 1px);clip: rect(1px, 1px, 1px, 1px);height: 1px;margin: -1px;overflow: hidden;padding: 0;position: absolute;width: 1px;}#sk-container-id-1 div.sk-estimator {font-family: monospace;background-color: #f0f8ff;border: 1px dotted black;border-radius: 0.25em;box-sizing: border-box;margin-bottom: 0.5em;}#sk-container-id-1 div.sk-estimator:hover {background-color: #d4ebff;}#sk-container-id-1 div.sk-parallel-item::after {content: \"\";width: 100%;border-bottom: 1px solid gray;flex-grow: 1;}#sk-container-id-1 div.sk-label:hover label.sk-toggleable__label {background-color: #d4ebff;}#sk-container-id-1 div.sk-serial::before {content: \"\";position: absolute;border-left: 1px solid gray;box-sizing: border-box;top: 0;bottom: 0;left: 50%;z-index: 0;}#sk-container-id-1 div.sk-serial {display: flex;flex-direction: column;align-items: center;background-color: white;padding-right: 0.2em;padding-left: 0.2em;position: relative;}#sk-container-id-1 div.sk-item {position: relative;z-index: 1;}#sk-container-id-1 div.sk-parallel {display: flex;align-items: stretch;justify-content: center;background-color: white;position: relative;}#sk-container-id-1 div.sk-item::before, #sk-container-id-1 div.sk-parallel-item::before {content: \"\";position: absolute;border-left: 1px solid gray;box-sizing: border-box;top: 0;bottom: 0;left: 50%;z-index: -1;}#sk-container-id-1 div.sk-parallel-item {display: flex;flex-direction: column;z-index: 1;position: relative;background-color: white;}#sk-container-id-1 div.sk-parallel-item:first-child::after {align-self: flex-end;width: 50%;}#sk-container-id-1 div.sk-parallel-item:last-child::after {align-self: flex-start;width: 50%;}#sk-container-id-1 div.sk-parallel-item:only-child::after {width: 0;}#sk-container-id-1 div.sk-dashed-wrapped {border: 1px dashed gray;margin: 0 0.4em 0.5em 0.4em;box-sizing: border-box;padding-bottom: 0.4em;background-color: white;}#sk-container-id-1 div.sk-label label {font-family: monospace;font-weight: bold;display: inline-block;line-height: 1.2em;}#sk-container-id-1 div.sk-label-container {text-align: center;}#sk-container-id-1 div.sk-container {/* jupyter's `normalize.less` sets `[hidden] { display: none; }` but bootstrap.min.css set `[hidden] { display: none !important; }` so we also need the `!important` here to be able to override the default hidden behavior on the sphinx rendered scikit-learn.org. See: https://github.com/scikit-learn/scikit-learn/issues/21755 */display: inline-block !important;position: relative;}#sk-container-id-1 div.sk-text-repr-fallback {display: none;}</style><div id=\"sk-container-id-1\" class=\"sk-top-container\"><div class=\"sk-text-repr-fallback\"><pre>Pipeline(steps=[(&#x27;vec&#x27;,\n",
       "                 CountVectorizer(preprocessor=&lt;function &lt;lambda&gt; at 0x7f41a7f7df70&gt;,\n",
       "                                 tokenizer=&lt;function &lt;lambda&gt; at 0x7f41b5999f70&gt;)),\n",
       "                (&#x27;tfidf&#x27;, TfidfTransformer()), (&#x27;clf&#x27;, SGDClassifier())])</pre><b>In a Jupyter environment, please rerun this cell to show the HTML representation or trust the notebook. <br />On GitHub, the HTML representation is unable to render, please try loading this page with nbviewer.org.</b></div><div class=\"sk-container\" hidden><div class=\"sk-item sk-dashed-wrapped\"><div class=\"sk-label-container\"><div class=\"sk-label sk-toggleable\"><input class=\"sk-toggleable__control sk-hidden--visually\" id=\"sk-estimator-id-1\" type=\"checkbox\" ><label for=\"sk-estimator-id-1\" class=\"sk-toggleable__label sk-toggleable__label-arrow\">Pipeline</label><div class=\"sk-toggleable__content\"><pre>Pipeline(steps=[(&#x27;vec&#x27;,\n",
       "                 CountVectorizer(preprocessor=&lt;function &lt;lambda&gt; at 0x7f41a7f7df70&gt;,\n",
       "                                 tokenizer=&lt;function &lt;lambda&gt; at 0x7f41b5999f70&gt;)),\n",
       "                (&#x27;tfidf&#x27;, TfidfTransformer()), (&#x27;clf&#x27;, SGDClassifier())])</pre></div></div></div><div class=\"sk-serial\"><div class=\"sk-item\"><div class=\"sk-estimator sk-toggleable\"><input class=\"sk-toggleable__control sk-hidden--visually\" id=\"sk-estimator-id-2\" type=\"checkbox\" ><label for=\"sk-estimator-id-2\" class=\"sk-toggleable__label sk-toggleable__label-arrow\">CountVectorizer</label><div class=\"sk-toggleable__content\"><pre>CountVectorizer(preprocessor=&lt;function &lt;lambda&gt; at 0x7f41a7f7df70&gt;,\n",
       "                tokenizer=&lt;function &lt;lambda&gt; at 0x7f41b5999f70&gt;)</pre></div></div></div><div class=\"sk-item\"><div class=\"sk-estimator sk-toggleable\"><input class=\"sk-toggleable__control sk-hidden--visually\" id=\"sk-estimator-id-3\" type=\"checkbox\" ><label for=\"sk-estimator-id-3\" class=\"sk-toggleable__label sk-toggleable__label-arrow\">TfidfTransformer</label><div class=\"sk-toggleable__content\"><pre>TfidfTransformer()</pre></div></div></div><div class=\"sk-item\"><div class=\"sk-estimator sk-toggleable\"><input class=\"sk-toggleable__control sk-hidden--visually\" id=\"sk-estimator-id-4\" type=\"checkbox\" ><label for=\"sk-estimator-id-4\" class=\"sk-toggleable__label sk-toggleable__label-arrow\">SGDClassifier</label><div class=\"sk-toggleable__content\"><pre>SGDClassifier()</pre></div></div></div></div></div></div></div>"
      ],
      "text/plain": [
       "Pipeline(steps=[('vec',\n",
       "                 CountVectorizer(preprocessor=<function <lambda> at 0x7f41a7f7df70>,\n",
       "                                 tokenizer=<function <lambda> at 0x7f41b5999f70>)),\n",
       "                ('tfidf', TfidfTransformer()), ('clf', SGDClassifier())])"
      ]
     },
     "execution_count": 10,
     "metadata": {},
     "output_type": "execute_result"
    }
   ],
   "source": [
    "%%time\n",
    "\n",
    "from sklearn.feature_extraction.text import CountVectorizer\n",
    "from sklearn.feature_extraction.text import TfidfTransformer\n",
    "from sklearn.linear_model import SGDClassifier\n",
    "from sklearn.pipeline import Pipeline\n",
    "\n",
    "# TODO: !!! place your code here !!!\n",
    "####################################\n",
    "\n",
    "\n",
    "###################\n",
    "# TODO: !!! end !!!\n",
    "\n",
    "pipe.fit(X_train, y_train)"
   ]
  },
  {
   "cell_type": "code",
   "execution_count": 11,
   "metadata": {},
   "outputs": [],
   "source": [
    "%%time\n",
    "\n",
    "y_train_pred = pipe.predict(X_train)\n",
    "y_test_pred = pipe.predict(X_test)"
   ]
  },
  {
   "cell_type": "markdown",
   "metadata": {},
   "source": [
    "See [here](https://www.youtube.com/watch?v=qWfzIYCvBqo) for a nice explanation of precision and recall.\n",
    "\n",
    "See [here](https://towardsdatascience.com/micro-macro-weighted-averages-of-f1-score-clearly-explained-b603420b292f) on how to interpret a classification report (and on which measure to choose to compare the performance of different models). "
   ]
  },
  {
   "cell_type": "code",
   "execution_count": 12,
   "metadata": {},
   "outputs": [
    {
     "name": "stdout",
     "output_type": "stream",
     "text": [
      "Train:\n",
      "              precision    recall  f1-score   support\n",
      "\n",
      "    negative       0.91      0.68      0.78     24766\n",
      "    positive       0.97      0.99      0.98    223624\n",
      "\n",
      "    accuracy                           0.96    248390\n",
      "   macro avg       0.94      0.84      0.88    248390\n",
      "weighted avg       0.96      0.96      0.96    248390\n",
      "\n",
      "Test:\n",
      "              precision    recall  f1-score   support\n",
      "\n",
      "    negative       0.90      0.68      0.78      8256\n",
      "    positive       0.97      0.99      0.98     74541\n",
      "\n",
      "    accuracy                           0.96     82797\n",
      "   macro avg       0.93      0.84      0.88     82797\n",
      "weighted avg       0.96      0.96      0.96     82797\n",
      "\n"
     ]
    }
   ],
   "source": [
    "from sklearn.metrics import classification_report\n",
    "\n",
    "report = classification_report(y_train, y_train_pred)\n",
    "print(\"Train:\")\n",
    "print(report)\n",
    "report = classification_report(y_test, y_test_pred)\n",
    "print(\"Test:\")\n",
    "print(report)"
   ]
  },
  {
   "cell_type": "markdown",
   "metadata": {},
   "source": [
    "See [here](https://www.youtube.com/watch?v=_cpiuMuFj3U) for a nice explanation on how to interprete a confusion matrix."
   ]
  },
  {
   "cell_type": "code",
   "execution_count": 13,
   "metadata": {},
   "outputs": [
    {
     "name": "stdout",
     "output_type": "stream",
     "text": [
      "Set Population: 248390\n",
      "Accuracy: 0.9616\n"
     ]
    },
    {
     "data": {
      "image/png": "[encoded data removed]",
      "text/plain": [
       "<Figure size 720x576 with 2 Axes>"
      ]
     },
     "metadata": {
      "needs_background": "light"
     },
     "output_type": "display_data"
    },
    {
     "name": "stdout",
     "output_type": "stream",
     "text": [
      "Set Population: 82797\n",
      "Accuracy: 0.9606\n"
     ]
    },
    {
     "data": {
      "image/png": "[encoded data removed]",
      "text/plain": [
       "<Figure size 720x576 with 2 Axes>"
      ]
     },
     "metadata": {
      "needs_background": "light"
     },
     "output_type": "display_data"
    }
   ],
   "source": [
    "from fhnw.nlp.utils.ploting import plot_confusion_matrix\n",
    "\n",
    "plot_confusion_matrix(y_train, y_train_pred)\n",
    "plot_confusion_matrix(y_test, y_test_pred)"
   ]
  },
  {
   "cell_type": "code",
   "execution_count": null,
   "metadata": {},
   "outputs": [],
   "source": []
  },
  {
   "cell_type": "markdown",
   "metadata": {},
   "source": [
    "Check feature importance in order to get an idea if the class assignment builds on reasonable words. \n",
    "\n",
    "We can do this because SGDClassifier uses a LinearSVC by default. Recall that a linear SVM creates a hyperplane that uses support vectors to maximise the distance between the two classes. The weights obtained from svm.coef_ represent the vector coordinates which are orthogonal to the hyperplane and their direction indicates the predicted class. The absolute size of the coefficients in relation to each other can then be used to determine feature importance.\n",
    "\n",
    "See also https://aneesha.medium.com/visualising-top-features-in-linear-svm-with-scikit-learn-and-matplotlib-3454ab18a14d"
   ]
  },
  {
   "cell_type": "code",
   "execution_count": 14,
   "metadata": {},
   "outputs": [],
   "source": [
    " def plot_feature_importance(classifier, feature_names, top_features=20):\n",
    "    \"\"\"Plot the feature importance of the top n features of a LinearSVC\n",
    "\n",
    "    Parameters\n",
    "    ----------\n",
    "    classifier : LinearSVC\n",
    "        The classifier\n",
    "    feature_names : iterable\n",
    "        The name of the features\n",
    "    top_features : int\n",
    "        The top n features to plog\n",
    "    \"\"\"\n",
    "      \n",
    "    import matplotlib.pyplot as plt\n",
    "    \n",
    "    coefs = classifier.coef_\n",
    "    n_coefs = len(coefs)\n",
    "    \n",
    "    for i in range(n_coefs):\n",
    "        label = classifier.classes_[i] +  (\"/\"+classifier.classes_[1] if n_coefs == 1 else \" vs-rest\")\n",
    "        coef = coefs[i,]\n",
    "    \n",
    "        top_positive_coefficients = np.argsort(coef)[-top_features:]\n",
    "        top_negative_coefficients = np.argsort(coef)[:top_features]\n",
    "        top_coefficients = np.hstack([top_negative_coefficients, top_positive_coefficients])\n",
    " \n",
    "        # create plot\n",
    "        plt.figure(figsize=(15, 5))\n",
    "        colors = [\"red\" if c < 0 else \"green\" for c in coef[top_coefficients]]\n",
    "        plt.bar(np.arange(2 * top_features), coef[top_coefficients], color=colors)\n",
    "        feature_names = np.array(feature_names)\n",
    "        plt.xticks(np.arange(1, 1 + 2 * top_features), feature_names[top_coefficients], rotation=60, ha=\"right\")\n",
    "        plt.title(label)\n",
    "        plt.show()"
   ]
  },
  {
   "cell_type": "code",
   "execution_count": 15,
   "metadata": {},
   "outputs": [],
   "source": [
    "vectorizer = pipe.named_steps[\"vec\"]\n",
    "# only works since SGDClassifier uses LinearSVC by default\n",
    "classifier = pipe.named_steps[\"clf\"]"
   ]
  },
  {
   "cell_type": "code",
   "execution_count": 18,
   "metadata": {},
   "outputs": [
    {
     "data": {
      "image/png": "[encoded data removed]",
      "text/plain": [
       "<Figure size 1080x360 with 1 Axes>"
      ]
     },
     "metadata": {
      "needs_background": "light"
     },
     "output_type": "display_data"
    }
   ],
   "source": [
    "plot_feature_importance(classifier, vectorizer.get_feature_names_out())"
   ]
  },
  {
   "cell_type": "code",
   "execution_count": null,
   "metadata": {},
   "outputs": [],
   "source": []
  },
  {
   "cell_type": "markdown",
   "metadata": {},
   "source": [
    "Get an impression on texts with wrong prediction."
   ]
  },
  {
   "cell_type": "code",
   "execution_count": 17,
   "metadata": {},
   "outputs": [
    {
     "data": {
      "text/html": [
       "<div>\n",
       "<style scoped>\n",
       "    .dataframe tbody tr th:only-of-type {\n",
       "        vertical-align: middle;\n",
       "    }\n",
       "\n",
       "    .dataframe tbody tr th {\n",
       "        vertical-align: top;\n",
       "    }\n",
       "\n",
       "    .dataframe thead th {\n",
       "        text-align: right;\n",
       "    }\n",
       "</style>\n",
       "<table border=\"1\" class=\"dataframe\">\n",
       "  <thead>\n",
       "    <tr style=\"text-align: right;\">\n",
       "      <th></th>\n",
       "      <th>text</th>\n",
       "      <th>label</th>\n",
       "      <th>prediction</th>\n",
       "    </tr>\n",
       "  </thead>\n",
       "  <tbody>\n",
       "    <tr>\n",
       "      <th>2943</th>\n",
       "      <td>Meine fast jährige Mutter kam zur Nachsorge nach einer gerichteten Oberschenkelfraktur zu Herrn Dr. Schallehn. Bei der Röntgenkontrolle Wochen nach der OP wurde ihr gesagt, dass sie nun voll belasten dürfe. Nach weiteren Wochen erfolgt eine weitere Röntgenkontrolle es sei alles in Ordnung. Eine Woche später bricht die implantierte Platte. Bei der ernauten OP stellt sich heraus, dass die Oberschenkelknochen nie verheilt war.</td>\n",
       "      <td>negative</td>\n",
       "      <td>positive</td>\n",
       "    </tr>\n",
       "    <tr>\n",
       "      <th>192073</th>\n",
       "      <td>Habe mir hier die Weisheitszähne raus nehmen lassen. Ich hatte vorher total Panik weshalb ich mich für eine Vollnarkose entschieden hatte. Es wurden alle auf einmal entfernt. Tage nach der OP konnte ich wieder normal essen. Tage nach der OP war ich auf einem Konzert. Es ist kaum angeschwollen und IBU hat vollkommen gereicht. Nach Tagen heute wurden mir die Fäden gezogen inkl. Drainagen. Nach min war ich wieder raus und es tat überhaupt nicht weh. Es war eher ein angenehmes Gefühl als die Fäden gezogen wurden. Am ersten Tag nach der OP Samstag wurde ich von Dr. Hilden angerufen und gefragt wie es mir geht er sagte ich solle mich behandeln wie ein rohes ei Und am . oder . Tag nach der OP wurde ich von einer Schwester angerufen die noch mal gefragt hat wie es mir geht. Sehr fürsorglich! Alles in allem nur zu empfehlen. Bei niemandem mit dem ich gesprochen habe war es so einfach wie bei mir! Wäre ich doch nur nicht die letzte gewesen, dann hätten auch meine Freunde davon profitieren können</td>\n",
       "      <td>positive</td>\n",
       "      <td>negative</td>\n",
       "    </tr>\n",
       "    <tr>\n",
       "      <th>253925</th>\n",
       "      <td>vorher telefonisch erfragt wann ich am besten vorbei kommen soll. Akuten Beschwerden am nächsten Tag pünktlichst Vorort an der Praxis erschienen. Wartezeit eingeplant. ohne Termin, weil krank jedes kommen und gehen der Patienten mitbekommen. nach höflichen erfragen der noch kommenden Wartezeit, gesagt bekommen das der Arzt entscheidet wann wer rein kommt und nochmal gesagt bekommen, dass man keinen Termin hätte. unbehandelt und krank wieder gegangen.</td>\n",
       "      <td>negative</td>\n",
       "      <td>positive</td>\n",
       "    </tr>\n",
       "    <tr>\n",
       "      <th>273247</th>\n",
       "      <td>Herr Nagel ist ein guter Arzt, wenn man dringend einen Krankenschein benötigt. Wenn man ein etwas komplexeres Krankheitsbild hat, versagt er leider völlig. Auf eine Überweisung zum HNO von ihm musste ich mehrere Monate warten. Im Endeffekt war das Krankheitsbild so chronifiziert, dass ich eine stationäre OP brauchte. Ich kann Herrn Nagel leider nicht empfehlen.</td>\n",
       "      <td>negative</td>\n",
       "      <td>positive</td>\n",
       "    </tr>\n",
       "    <tr>\n",
       "      <th>184103</th>\n",
       "      <td>Mein Versuch nach einem massiven Kreislaufkollaps als neuer Patient einen Untersuchungstermin zu erhalten scheiterte bereits bei der Mitarbeiterin am Telefon. Sie behauptete, dass keine neuen Patienten aufgenommen werden sollen und lehnte eine Terminvergabe und damit eine Behandlung strikt ab.</td>\n",
       "      <td>negative</td>\n",
       "      <td>positive</td>\n",
       "    </tr>\n",
       "    <tr>\n",
       "      <th>...</th>\n",
       "      <td>...</td>\n",
       "      <td>...</td>\n",
       "      <td>...</td>\n",
       "    </tr>\n",
       "    <tr>\n",
       "      <th>281901</th>\n",
       "      <td>Ich ging zu Dr. Fuchs um meinen Tetanus Schutz auf Grund einer Fußverletzung aufzufrischen! Alles wurde besprochen und wir entschieden uns für eine Tetanus diphtherie komobi Impfung. Ich habe ausdrücklich klar gemacht das ich nicht mehr möchte, der Dr. Stimmte zu um mir dann doch hinterrücks eine andere mehrfach Impfung zu geben! Ich habe noch nie so etwas erlebt! Bin zutiefst schockiert und kann jeden nur warnen zu diesem Arzt zu gehen.</td>\n",
       "      <td>negative</td>\n",
       "      <td>positive</td>\n",
       "    </tr>\n",
       "    <tr>\n",
       "      <th>116945</th>\n",
       "      <td>Eltern bekommen auch eine Krankschreibung an der Rezeption ohne das der Arzt das Kind gesehen hat. Diagnosen werden von den Praxis Mitarbeiterinnen am Telefon gestellt deshalb sind die Wartezeiten sehr kurz und Kleinkinder werden bei Fieber erst nach tagen richtig untersucht weil man der Auffassung ist es könnte sich um ein tage fieber handeln</td>\n",
       "      <td>negative</td>\n",
       "      <td>positive</td>\n",
       "    </tr>\n",
       "    <tr>\n",
       "      <th>217999</th>\n",
       "      <td>Aufgrund eines freien Gelenkkörpers im Knie, der mir seit Monaten Beschwerden gemacht hat, habe ich Herrn Dr. König aufgesucht, um eine Arthroskopie durchführen zu lassen. Herr Dr. König hat das abgelehnt, da im Knie bereits Arthrose sei! Ich habe dann einen anderen Arzt gefunden, der mich innerhalb kürzester Zeit operiert hat. Dadurch kann ich jetzt endlich wieder beschwerdefrei laufen.</td>\n",
       "      <td>negative</td>\n",
       "      <td>positive</td>\n",
       "    </tr>\n",
       "    <tr>\n",
       "      <th>220968</th>\n",
       "      <td>Die Ärtzin selber ist der kompetent und freundlich, sie hat sich viel Zeit genommen und die Untersuchung war gründlich. Allerdings ist die Organisation in der Praxis wirklich eine Katastrophe. Ich musste trotz Termin über anderthalb Stunden warten. Die Sprechstundenhilfe war durchgehend sehr unfreundlich, auf Nachfragen reagierte sie sehr genervt und man bekam dass Gefühl vermittelt, dass die eigene Anwesenheit ausschließlich störend ist. Wohl gefühlt hat man sich definitiv nicht.</td>\n",
       "      <td>positive</td>\n",
       "      <td>negative</td>\n",
       "    </tr>\n",
       "    <tr>\n",
       "      <th>288932</th>\n",
       "      <td>Es wird alles sehr schnell besprochen kaum Zeit um eine ausführliche Besprechung und Beratung durchzuführen.</td>\n",
       "      <td>negative</td>\n",
       "      <td>positive</td>\n",
       "    </tr>\n",
       "  </tbody>\n",
       "</table>\n",
       "<p>9548 rows × 3 columns</p>\n",
       "</div>"
      ],
      "text/plain": [
       "                                                                                                                                                                                                                                                                                                                                                                                                                                                                                                                                                                                                                                                                                                                                                                                                                                                                                                                                                                                                                                             text  \\\n",
       "2943                                                                                                                                                                                                                                                                                                                                                                                                                                                                                                                                                                                                  Meine fast jährige Mutter kam zur Nachsorge nach einer gerichteten Oberschenkelfraktur zu Herrn Dr. Schallehn. Bei der Röntgenkontrolle Wochen nach der OP wurde ihr gesagt, dass sie nun voll belasten dürfe. Nach weiteren Wochen erfolgt eine weitere Röntgenkontrolle es sei alles in Ordnung. Eine Woche später bricht die implantierte Platte. Bei der ernauten OP stellt sich heraus, dass die Oberschenkelknochen nie verheilt war.   \n",
       "192073  Habe mir hier die Weisheitszähne raus nehmen lassen. Ich hatte vorher total Panik weshalb ich mich für eine Vollnarkose entschieden hatte. Es wurden alle auf einmal entfernt. Tage nach der OP konnte ich wieder normal essen. Tage nach der OP war ich auf einem Konzert. Es ist kaum angeschwollen und IBU hat vollkommen gereicht. Nach Tagen heute wurden mir die Fäden gezogen inkl. Drainagen. Nach min war ich wieder raus und es tat überhaupt nicht weh. Es war eher ein angenehmes Gefühl als die Fäden gezogen wurden. Am ersten Tag nach der OP Samstag wurde ich von Dr. Hilden angerufen und gefragt wie es mir geht er sagte ich solle mich behandeln wie ein rohes ei Und am . oder . Tag nach der OP wurde ich von einer Schwester angerufen die noch mal gefragt hat wie es mir geht. Sehr fürsorglich! Alles in allem nur zu empfehlen. Bei niemandem mit dem ich gesprochen habe war es so einfach wie bei mir! Wäre ich doch nur nicht die letzte gewesen, dann hätten auch meine Freunde davon profitieren können    \n",
       "253925                                                                                                                                                                                                                                                                                                                                                                                                                                                                                                                                                                     vorher telefonisch erfragt wann ich am besten vorbei kommen soll. Akuten Beschwerden am nächsten Tag pünktlichst Vorort an der Praxis erschienen. Wartezeit eingeplant. ohne Termin, weil krank jedes kommen und gehen der Patienten mitbekommen. nach höflichen erfragen der noch kommenden Wartezeit, gesagt bekommen das der Arzt entscheidet wann wer rein kommt und nochmal gesagt bekommen, dass man keinen Termin hätte. unbehandelt und krank wieder gegangen.   \n",
       "273247                                                                                                                                                                                                                                                                                                                                                                                                                                                                                                                                                                                                                                                                Herr Nagel ist ein guter Arzt, wenn man dringend einen Krankenschein benötigt. Wenn man ein etwas komplexeres Krankheitsbild hat, versagt er leider völlig. Auf eine Überweisung zum HNO von ihm musste ich mehrere Monate warten. Im Endeffekt war das Krankheitsbild so chronifiziert, dass ich eine stationäre OP brauchte. Ich kann Herrn Nagel leider nicht empfehlen.   \n",
       "184103                                                                                                                                                                                                                                                                                                                                                                                                                                                                                                                                                                                                                                                                                                                                     Mein Versuch nach einem massiven Kreislaufkollaps als neuer Patient einen Untersuchungstermin zu erhalten scheiterte bereits bei der Mitarbeiterin am Telefon. Sie behauptete, dass keine neuen Patienten aufgenommen werden sollen und lehnte eine Terminvergabe und damit eine Behandlung strikt ab.   \n",
       "...                                                                                                                                                                                                                                                                                                                                                                                                                                                                                                                                                                                                                                                                                                                                                                                                                                                                                                                                                                                                                                           ...   \n",
       "281901                                                                                                                                                                                                                                                                                                                                                                                                                                                                                                                                                                                  Ich ging zu Dr. Fuchs um meinen Tetanus Schutz auf Grund einer Fußverletzung aufzufrischen! Alles wurde besprochen und wir entschieden uns für eine Tetanus diphtherie komobi Impfung. Ich habe ausdrücklich klar gemacht das ich nicht mehr möchte, der Dr. Stimmte zu um mir dann doch hinterrücks eine andere mehrfach Impfung zu geben! Ich habe noch nie so etwas erlebt! Bin zutiefst schockiert und kann jeden nur warnen zu diesem Arzt zu gehen.   \n",
       "116945                                                                                                                                                                                                                                                                                                                                                                                                                                                                                                                                                                                                                                                                                  Eltern bekommen auch eine Krankschreibung an der Rezeption ohne das der Arzt das Kind gesehen hat. Diagnosen werden von den Praxis Mitarbeiterinnen am Telefon gestellt deshalb sind die Wartezeiten sehr kurz und Kleinkinder werden bei Fieber erst nach tagen richtig untersucht weil man der Auffassung ist es könnte sich um ein tage fieber handeln   \n",
       "217999                                                                                                                                                                                                                                                                                                                                                                                                                                                                                                                                                                                                                                     Aufgrund eines freien Gelenkkörpers im Knie, der mir seit Monaten Beschwerden gemacht hat, habe ich Herrn Dr. König aufgesucht, um eine Arthroskopie durchführen zu lassen. Herr Dr. König hat das abgelehnt, da im Knie bereits Arthrose sei! Ich habe dann einen anderen Arzt gefunden, der mich innerhalb kürzester Zeit operiert hat. Dadurch kann ich jetzt endlich wieder beschwerdefrei laufen.   \n",
       "220968                                                                                                                                                                                                                                                                                                                                                                                                                                                                                                                                      Die Ärtzin selber ist der kompetent und freundlich, sie hat sich viel Zeit genommen und die Untersuchung war gründlich. Allerdings ist die Organisation in der Praxis wirklich eine Katastrophe. Ich musste trotz Termin über anderthalb Stunden warten. Die Sprechstundenhilfe war durchgehend sehr unfreundlich, auf Nachfragen reagierte sie sehr genervt und man bekam dass Gefühl vermittelt, dass die eigene Anwesenheit ausschließlich störend ist. Wohl gefühlt hat man sich definitiv nicht.   \n",
       "288932                                                                                                                                                                                                                                                                                                                                                                                                                                                                                                                                                                                                                                                                                                                                                                                                                                                                                                                               Es wird alles sehr schnell besprochen kaum Zeit um eine ausführliche Besprechung und Beratung durchzuführen.   \n",
       "\n",
       "           label prediction  \n",
       "2943    negative   positive  \n",
       "192073  positive   negative  \n",
       "253925  negative   positive  \n",
       "273247  negative   positive  \n",
       "184103  negative   positive  \n",
       "...          ...        ...  \n",
       "281901  negative   positive  \n",
       "116945  negative   positive  \n",
       "217999  negative   positive  \n",
       "220968  positive   negative  \n",
       "288932  negative   positive  \n",
       "\n",
       "[9548 rows x 3 columns]"
      ]
     },
     "execution_count": 17,
     "metadata": {},
     "output_type": "execute_result"
    }
   ],
   "source": [
    "pd.set_option('display.max_colwidth', None)\n",
    "\n",
    "data_train[\"prediction\"] = y_train_pred\n",
    "\n",
    "data_train[data_train[\"label\"] != data_train[\"prediction\"]][[\"text\", \"label\", \"prediction\"]]"
   ]
  },
  {
   "cell_type": "code",
   "execution_count": null,
   "metadata": {},
   "outputs": [],
   "source": []
  }
 ],
 "metadata": {
  "kernelspec": {
   "display_name": "Python 3 (ipykernel)",
   "language": "python",
   "name": "python3"
  },
  "language_info": {
   "codemirror_mode": {
    "name": "ipython",
    "version": 3
   },
   "file_extension": ".py",
   "mimetype": "text/x-python",
   "name": "python",
   "nbconvert_exporter": "python",
   "pygments_lexer": "ipython3",
   "version": "3.8.10"
  }
 },
 "nbformat": 4,
 "nbformat_minor": 2
}
